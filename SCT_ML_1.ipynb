{
  "nbformat": 4,
  "nbformat_minor": 0,
  "metadata": {
    "colab": {
      "provenance": [],
      "authorship_tag": "ABX9TyNfShqa8mAkpft6dJjgkRsr",
      "include_colab_link": true
    },
    "kernelspec": {
      "name": "python3",
      "display_name": "Python 3"
    },
    "language_info": {
      "name": "python"
    }
  },
  "cells": [
    {
      "cell_type": "markdown",
      "metadata": {
        "id": "view-in-github",
        "colab_type": "text"
      },
      "source": [
        "<a href=\"https://colab.research.google.com/github/Prasanth89003/SCT_ML_1/blob/main/SCT_ML_1.ipynb\" target=\"_parent\"><img src=\"https://colab.research.google.com/assets/colab-badge.svg\" alt=\"Open In Colab\"/></a>"
      ]
    },
    {
      "cell_type": "code",
      "execution_count": 1,
      "metadata": {
        "colab": {
          "base_uri": "https://localhost:8080/",
          "height": 73
        },
        "id": "Ab7hlRvHiaJ9",
        "outputId": "9a89dfc9-2d64-423f-cf38-55db3743bf23"
      },
      "outputs": [
        {
          "output_type": "display_data",
          "data": {
            "text/plain": [
              "<IPython.core.display.HTML object>"
            ],
            "text/html": [
              "\n",
              "     <input type=\"file\" id=\"files-f4f1b369-a2d9-4387-96dd-a86736deed03\" name=\"files[]\" multiple disabled\n",
              "        style=\"border:none\" />\n",
              "     <output id=\"result-f4f1b369-a2d9-4387-96dd-a86736deed03\">\n",
              "      Upload widget is only available when the cell has been executed in the\n",
              "      current browser session. Please rerun this cell to enable.\n",
              "      </output>\n",
              "      <script>// Copyright 2017 Google LLC\n",
              "//\n",
              "// Licensed under the Apache License, Version 2.0 (the \"License\");\n",
              "// you may not use this file except in compliance with the License.\n",
              "// You may obtain a copy of the License at\n",
              "//\n",
              "//      http://www.apache.org/licenses/LICENSE-2.0\n",
              "//\n",
              "// Unless required by applicable law or agreed to in writing, software\n",
              "// distributed under the License is distributed on an \"AS IS\" BASIS,\n",
              "// WITHOUT WARRANTIES OR CONDITIONS OF ANY KIND, either express or implied.\n",
              "// See the License for the specific language governing permissions and\n",
              "// limitations under the License.\n",
              "\n",
              "/**\n",
              " * @fileoverview Helpers for google.colab Python module.\n",
              " */\n",
              "(function(scope) {\n",
              "function span(text, styleAttributes = {}) {\n",
              "  const element = document.createElement('span');\n",
              "  element.textContent = text;\n",
              "  for (const key of Object.keys(styleAttributes)) {\n",
              "    element.style[key] = styleAttributes[key];\n",
              "  }\n",
              "  return element;\n",
              "}\n",
              "\n",
              "// Max number of bytes which will be uploaded at a time.\n",
              "const MAX_PAYLOAD_SIZE = 100 * 1024;\n",
              "\n",
              "function _uploadFiles(inputId, outputId) {\n",
              "  const steps = uploadFilesStep(inputId, outputId);\n",
              "  const outputElement = document.getElementById(outputId);\n",
              "  // Cache steps on the outputElement to make it available for the next call\n",
              "  // to uploadFilesContinue from Python.\n",
              "  outputElement.steps = steps;\n",
              "\n",
              "  return _uploadFilesContinue(outputId);\n",
              "}\n",
              "\n",
              "// This is roughly an async generator (not supported in the browser yet),\n",
              "// where there are multiple asynchronous steps and the Python side is going\n",
              "// to poll for completion of each step.\n",
              "// This uses a Promise to block the python side on completion of each step,\n",
              "// then passes the result of the previous step as the input to the next step.\n",
              "function _uploadFilesContinue(outputId) {\n",
              "  const outputElement = document.getElementById(outputId);\n",
              "  const steps = outputElement.steps;\n",
              "\n",
              "  const next = steps.next(outputElement.lastPromiseValue);\n",
              "  return Promise.resolve(next.value.promise).then((value) => {\n",
              "    // Cache the last promise value to make it available to the next\n",
              "    // step of the generator.\n",
              "    outputElement.lastPromiseValue = value;\n",
              "    return next.value.response;\n",
              "  });\n",
              "}\n",
              "\n",
              "/**\n",
              " * Generator function which is called between each async step of the upload\n",
              " * process.\n",
              " * @param {string} inputId Element ID of the input file picker element.\n",
              " * @param {string} outputId Element ID of the output display.\n",
              " * @return {!Iterable<!Object>} Iterable of next steps.\n",
              " */\n",
              "function* uploadFilesStep(inputId, outputId) {\n",
              "  const inputElement = document.getElementById(inputId);\n",
              "  inputElement.disabled = false;\n",
              "\n",
              "  const outputElement = document.getElementById(outputId);\n",
              "  outputElement.innerHTML = '';\n",
              "\n",
              "  const pickedPromise = new Promise((resolve) => {\n",
              "    inputElement.addEventListener('change', (e) => {\n",
              "      resolve(e.target.files);\n",
              "    });\n",
              "  });\n",
              "\n",
              "  const cancel = document.createElement('button');\n",
              "  inputElement.parentElement.appendChild(cancel);\n",
              "  cancel.textContent = 'Cancel upload';\n",
              "  const cancelPromise = new Promise((resolve) => {\n",
              "    cancel.onclick = () => {\n",
              "      resolve(null);\n",
              "    };\n",
              "  });\n",
              "\n",
              "  // Wait for the user to pick the files.\n",
              "  const files = yield {\n",
              "    promise: Promise.race([pickedPromise, cancelPromise]),\n",
              "    response: {\n",
              "      action: 'starting',\n",
              "    }\n",
              "  };\n",
              "\n",
              "  cancel.remove();\n",
              "\n",
              "  // Disable the input element since further picks are not allowed.\n",
              "  inputElement.disabled = true;\n",
              "\n",
              "  if (!files) {\n",
              "    return {\n",
              "      response: {\n",
              "        action: 'complete',\n",
              "      }\n",
              "    };\n",
              "  }\n",
              "\n",
              "  for (const file of files) {\n",
              "    const li = document.createElement('li');\n",
              "    li.append(span(file.name, {fontWeight: 'bold'}));\n",
              "    li.append(span(\n",
              "        `(${file.type || 'n/a'}) - ${file.size} bytes, ` +\n",
              "        `last modified: ${\n",
              "            file.lastModifiedDate ? file.lastModifiedDate.toLocaleDateString() :\n",
              "                                    'n/a'} - `));\n",
              "    const percent = span('0% done');\n",
              "    li.appendChild(percent);\n",
              "\n",
              "    outputElement.appendChild(li);\n",
              "\n",
              "    const fileDataPromise = new Promise((resolve) => {\n",
              "      const reader = new FileReader();\n",
              "      reader.onload = (e) => {\n",
              "        resolve(e.target.result);\n",
              "      };\n",
              "      reader.readAsArrayBuffer(file);\n",
              "    });\n",
              "    // Wait for the data to be ready.\n",
              "    let fileData = yield {\n",
              "      promise: fileDataPromise,\n",
              "      response: {\n",
              "        action: 'continue',\n",
              "      }\n",
              "    };\n",
              "\n",
              "    // Use a chunked sending to avoid message size limits. See b/62115660.\n",
              "    let position = 0;\n",
              "    do {\n",
              "      const length = Math.min(fileData.byteLength - position, MAX_PAYLOAD_SIZE);\n",
              "      const chunk = new Uint8Array(fileData, position, length);\n",
              "      position += length;\n",
              "\n",
              "      const base64 = btoa(String.fromCharCode.apply(null, chunk));\n",
              "      yield {\n",
              "        response: {\n",
              "          action: 'append',\n",
              "          file: file.name,\n",
              "          data: base64,\n",
              "        },\n",
              "      };\n",
              "\n",
              "      let percentDone = fileData.byteLength === 0 ?\n",
              "          100 :\n",
              "          Math.round((position / fileData.byteLength) * 100);\n",
              "      percent.textContent = `${percentDone}% done`;\n",
              "\n",
              "    } while (position < fileData.byteLength);\n",
              "  }\n",
              "\n",
              "  // All done.\n",
              "  yield {\n",
              "    response: {\n",
              "      action: 'complete',\n",
              "    }\n",
              "  };\n",
              "}\n",
              "\n",
              "scope.google = scope.google || {};\n",
              "scope.google.colab = scope.google.colab || {};\n",
              "scope.google.colab._files = {\n",
              "  _uploadFiles,\n",
              "  _uploadFilesContinue,\n",
              "};\n",
              "})(self);\n",
              "</script> "
            ]
          },
          "metadata": {}
        },
        {
          "output_type": "stream",
          "name": "stdout",
          "text": [
            "Saving kaggle.json to kaggle.json\n"
          ]
        }
      ],
      "source": [
        "from google.colab import files\n",
        "\n",
        "uploaded = files.upload()\n"
      ]
    },
    {
      "cell_type": "code",
      "source": [
        "import os\n",
        "\n",
        "!mkdir -p ~/.kaggle\n",
        "!mv kaggle.json ~/.kaggle/\n",
        "\n",
        "!chmod 600 ~/.kaggle/kaggle.json\n"
      ],
      "metadata": {
        "id": "xw6mip3BjDer"
      },
      "execution_count": 2,
      "outputs": []
    },
    {
      "cell_type": "code",
      "source": [
        "!kaggle competitions download -c house-prices-advanced-regression-techniques"
      ],
      "metadata": {
        "colab": {
          "base_uri": "https://localhost:8080/"
        },
        "id": "p2syvaqejHZI",
        "outputId": "713ed60e-6740-49c9-a4fe-81575077e08f"
      },
      "execution_count": 3,
      "outputs": [
        {
          "output_type": "stream",
          "name": "stdout",
          "text": [
            "Downloading house-prices-advanced-regression-techniques.zip to /content\n",
            "\r  0% 0.00/199k [00:00<?, ?B/s]\n",
            "\r100% 199k/199k [00:00<00:00, 100MB/s]\n"
          ]
        }
      ]
    },
    {
      "cell_type": "code",
      "source": [
        "import zipfile\n",
        "\n",
        "with zipfile.ZipFile(\"house-prices-advanced-regression-techniques.zip\", \"r\") as zip_ref:\n",
        "    zip_ref.extractall(\"dataset-folder\")"
      ],
      "metadata": {
        "id": "R1zusXUajhrt"
      },
      "execution_count": 5,
      "outputs": []
    },
    {
      "cell_type": "code",
      "source": [
        "import pandas as pd\n",
        "\n",
        "# Replace 'dataset-folder/your_dataset.csv' with the actual path\n",
        "df = pd.read_csv(\"/content/dataset-folder/train.csv\")\n",
        "\n",
        "# Display the first few rows\n",
        "print(df.head())\n"
      ],
      "metadata": {
        "colab": {
          "base_uri": "https://localhost:8080/"
        },
        "id": "sX_GE2qCjpuY",
        "outputId": "a2fa71f9-42c7-46c2-9ddf-d0c71ea87b9a"
      },
      "execution_count": 6,
      "outputs": [
        {
          "output_type": "stream",
          "name": "stdout",
          "text": [
            "   Id  MSSubClass MSZoning  LotFrontage  LotArea Street Alley LotShape  \\\n",
            "0   1          60       RL         65.0     8450   Pave   NaN      Reg   \n",
            "1   2          20       RL         80.0     9600   Pave   NaN      Reg   \n",
            "2   3          60       RL         68.0    11250   Pave   NaN      IR1   \n",
            "3   4          70       RL         60.0     9550   Pave   NaN      IR1   \n",
            "4   5          60       RL         84.0    14260   Pave   NaN      IR1   \n",
            "\n",
            "  LandContour Utilities  ... PoolArea PoolQC Fence MiscFeature MiscVal MoSold  \\\n",
            "0         Lvl    AllPub  ...        0    NaN   NaN         NaN       0      2   \n",
            "1         Lvl    AllPub  ...        0    NaN   NaN         NaN       0      5   \n",
            "2         Lvl    AllPub  ...        0    NaN   NaN         NaN       0      9   \n",
            "3         Lvl    AllPub  ...        0    NaN   NaN         NaN       0      2   \n",
            "4         Lvl    AllPub  ...        0    NaN   NaN         NaN       0     12   \n",
            "\n",
            "  YrSold  SaleType  SaleCondition  SalePrice  \n",
            "0   2008        WD         Normal     208500  \n",
            "1   2007        WD         Normal     181500  \n",
            "2   2008        WD         Normal     223500  \n",
            "3   2006        WD        Abnorml     140000  \n",
            "4   2008        WD         Normal     250000  \n",
            "\n",
            "[5 rows x 81 columns]\n"
          ]
        }
      ]
    },
    {
      "cell_type": "code",
      "source": [
        "print(df.info())"
      ],
      "metadata": {
        "colab": {
          "base_uri": "https://localhost:8080/"
        },
        "id": "HrXMaWXRkfWV",
        "outputId": "b53eab0d-5a1c-4d58-bafb-a814d51dccbe"
      },
      "execution_count": 7,
      "outputs": [
        {
          "output_type": "stream",
          "name": "stdout",
          "text": [
            "<class 'pandas.core.frame.DataFrame'>\n",
            "RangeIndex: 1460 entries, 0 to 1459\n",
            "Data columns (total 81 columns):\n",
            " #   Column         Non-Null Count  Dtype  \n",
            "---  ------         --------------  -----  \n",
            " 0   Id             1460 non-null   int64  \n",
            " 1   MSSubClass     1460 non-null   int64  \n",
            " 2   MSZoning       1460 non-null   object \n",
            " 3   LotFrontage    1201 non-null   float64\n",
            " 4   LotArea        1460 non-null   int64  \n",
            " 5   Street         1460 non-null   object \n",
            " 6   Alley          91 non-null     object \n",
            " 7   LotShape       1460 non-null   object \n",
            " 8   LandContour    1460 non-null   object \n",
            " 9   Utilities      1460 non-null   object \n",
            " 10  LotConfig      1460 non-null   object \n",
            " 11  LandSlope      1460 non-null   object \n",
            " 12  Neighborhood   1460 non-null   object \n",
            " 13  Condition1     1460 non-null   object \n",
            " 14  Condition2     1460 non-null   object \n",
            " 15  BldgType       1460 non-null   object \n",
            " 16  HouseStyle     1460 non-null   object \n",
            " 17  OverallQual    1460 non-null   int64  \n",
            " 18  OverallCond    1460 non-null   int64  \n",
            " 19  YearBuilt      1460 non-null   int64  \n",
            " 20  YearRemodAdd   1460 non-null   int64  \n",
            " 21  RoofStyle      1460 non-null   object \n",
            " 22  RoofMatl       1460 non-null   object \n",
            " 23  Exterior1st    1460 non-null   object \n",
            " 24  Exterior2nd    1460 non-null   object \n",
            " 25  MasVnrType     588 non-null    object \n",
            " 26  MasVnrArea     1452 non-null   float64\n",
            " 27  ExterQual      1460 non-null   object \n",
            " 28  ExterCond      1460 non-null   object \n",
            " 29  Foundation     1460 non-null   object \n",
            " 30  BsmtQual       1423 non-null   object \n",
            " 31  BsmtCond       1423 non-null   object \n",
            " 32  BsmtExposure   1422 non-null   object \n",
            " 33  BsmtFinType1   1423 non-null   object \n",
            " 34  BsmtFinSF1     1460 non-null   int64  \n",
            " 35  BsmtFinType2   1422 non-null   object \n",
            " 36  BsmtFinSF2     1460 non-null   int64  \n",
            " 37  BsmtUnfSF      1460 non-null   int64  \n",
            " 38  TotalBsmtSF    1460 non-null   int64  \n",
            " 39  Heating        1460 non-null   object \n",
            " 40  HeatingQC      1460 non-null   object \n",
            " 41  CentralAir     1460 non-null   object \n",
            " 42  Electrical     1459 non-null   object \n",
            " 43  1stFlrSF       1460 non-null   int64  \n",
            " 44  2ndFlrSF       1460 non-null   int64  \n",
            " 45  LowQualFinSF   1460 non-null   int64  \n",
            " 46  GrLivArea      1460 non-null   int64  \n",
            " 47  BsmtFullBath   1460 non-null   int64  \n",
            " 48  BsmtHalfBath   1460 non-null   int64  \n",
            " 49  FullBath       1460 non-null   int64  \n",
            " 50  HalfBath       1460 non-null   int64  \n",
            " 51  BedroomAbvGr   1460 non-null   int64  \n",
            " 52  KitchenAbvGr   1460 non-null   int64  \n",
            " 53  KitchenQual    1460 non-null   object \n",
            " 54  TotRmsAbvGrd   1460 non-null   int64  \n",
            " 55  Functional     1460 non-null   object \n",
            " 56  Fireplaces     1460 non-null   int64  \n",
            " 57  FireplaceQu    770 non-null    object \n",
            " 58  GarageType     1379 non-null   object \n",
            " 59  GarageYrBlt    1379 non-null   float64\n",
            " 60  GarageFinish   1379 non-null   object \n",
            " 61  GarageCars     1460 non-null   int64  \n",
            " 62  GarageArea     1460 non-null   int64  \n",
            " 63  GarageQual     1379 non-null   object \n",
            " 64  GarageCond     1379 non-null   object \n",
            " 65  PavedDrive     1460 non-null   object \n",
            " 66  WoodDeckSF     1460 non-null   int64  \n",
            " 67  OpenPorchSF    1460 non-null   int64  \n",
            " 68  EnclosedPorch  1460 non-null   int64  \n",
            " 69  3SsnPorch      1460 non-null   int64  \n",
            " 70  ScreenPorch    1460 non-null   int64  \n",
            " 71  PoolArea       1460 non-null   int64  \n",
            " 72  PoolQC         7 non-null      object \n",
            " 73  Fence          281 non-null    object \n",
            " 74  MiscFeature    54 non-null     object \n",
            " 75  MiscVal        1460 non-null   int64  \n",
            " 76  MoSold         1460 non-null   int64  \n",
            " 77  YrSold         1460 non-null   int64  \n",
            " 78  SaleType       1460 non-null   object \n",
            " 79  SaleCondition  1460 non-null   object \n",
            " 80  SalePrice      1460 non-null   int64  \n",
            "dtypes: float64(3), int64(35), object(43)\n",
            "memory usage: 924.0+ KB\n",
            "None\n"
          ]
        }
      ]
    },
    {
      "cell_type": "code",
      "source": [
        "print(df.isnull().sum())"
      ],
      "metadata": {
        "colab": {
          "base_uri": "https://localhost:8080/"
        },
        "id": "_rOfcOU2ki6N",
        "outputId": "652d9d29-ab92-4fae-cbb9-eb1ea9735e56"
      },
      "execution_count": 8,
      "outputs": [
        {
          "output_type": "stream",
          "name": "stdout",
          "text": [
            "Id                 0\n",
            "MSSubClass         0\n",
            "MSZoning           0\n",
            "LotFrontage      259\n",
            "LotArea            0\n",
            "                ... \n",
            "MoSold             0\n",
            "YrSold             0\n",
            "SaleType           0\n",
            "SaleCondition      0\n",
            "SalePrice          0\n",
            "Length: 81, dtype: int64\n"
          ]
        }
      ]
    },
    {
      "cell_type": "code",
      "source": [
        "print(df.describe())"
      ],
      "metadata": {
        "colab": {
          "base_uri": "https://localhost:8080/"
        },
        "id": "APwGUa-OkmY6",
        "outputId": "8965eb32-d04c-4061-9159-6117ff856d92"
      },
      "execution_count": 9,
      "outputs": [
        {
          "output_type": "stream",
          "name": "stdout",
          "text": [
            "                Id   MSSubClass  LotFrontage        LotArea  OverallQual  \\\n",
            "count  1460.000000  1460.000000  1201.000000    1460.000000  1460.000000   \n",
            "mean    730.500000    56.897260    70.049958   10516.828082     6.099315   \n",
            "std     421.610009    42.300571    24.284752    9981.264932     1.382997   \n",
            "min       1.000000    20.000000    21.000000    1300.000000     1.000000   \n",
            "25%     365.750000    20.000000    59.000000    7553.500000     5.000000   \n",
            "50%     730.500000    50.000000    69.000000    9478.500000     6.000000   \n",
            "75%    1095.250000    70.000000    80.000000   11601.500000     7.000000   \n",
            "max    1460.000000   190.000000   313.000000  215245.000000    10.000000   \n",
            "\n",
            "       OverallCond    YearBuilt  YearRemodAdd   MasVnrArea   BsmtFinSF1  ...  \\\n",
            "count  1460.000000  1460.000000   1460.000000  1452.000000  1460.000000  ...   \n",
            "mean      5.575342  1971.267808   1984.865753   103.685262   443.639726  ...   \n",
            "std       1.112799    30.202904     20.645407   181.066207   456.098091  ...   \n",
            "min       1.000000  1872.000000   1950.000000     0.000000     0.000000  ...   \n",
            "25%       5.000000  1954.000000   1967.000000     0.000000     0.000000  ...   \n",
            "50%       5.000000  1973.000000   1994.000000     0.000000   383.500000  ...   \n",
            "75%       6.000000  2000.000000   2004.000000   166.000000   712.250000  ...   \n",
            "max       9.000000  2010.000000   2010.000000  1600.000000  5644.000000  ...   \n",
            "\n",
            "        WoodDeckSF  OpenPorchSF  EnclosedPorch    3SsnPorch  ScreenPorch  \\\n",
            "count  1460.000000  1460.000000    1460.000000  1460.000000  1460.000000   \n",
            "mean     94.244521    46.660274      21.954110     3.409589    15.060959   \n",
            "std     125.338794    66.256028      61.119149    29.317331    55.757415   \n",
            "min       0.000000     0.000000       0.000000     0.000000     0.000000   \n",
            "25%       0.000000     0.000000       0.000000     0.000000     0.000000   \n",
            "50%       0.000000    25.000000       0.000000     0.000000     0.000000   \n",
            "75%     168.000000    68.000000       0.000000     0.000000     0.000000   \n",
            "max     857.000000   547.000000     552.000000   508.000000   480.000000   \n",
            "\n",
            "          PoolArea       MiscVal       MoSold       YrSold      SalePrice  \n",
            "count  1460.000000   1460.000000  1460.000000  1460.000000    1460.000000  \n",
            "mean      2.758904     43.489041     6.321918  2007.815753  180921.195890  \n",
            "std      40.177307    496.123024     2.703626     1.328095   79442.502883  \n",
            "min       0.000000      0.000000     1.000000  2006.000000   34900.000000  \n",
            "25%       0.000000      0.000000     5.000000  2007.000000  129975.000000  \n",
            "50%       0.000000      0.000000     6.000000  2008.000000  163000.000000  \n",
            "75%       0.000000      0.000000     8.000000  2009.000000  214000.000000  \n",
            "max     738.000000  15500.000000    12.000000  2010.000000  755000.000000  \n",
            "\n",
            "[8 rows x 38 columns]\n"
          ]
        }
      ]
    },
    {
      "cell_type": "code",
      "source": [
        "print(df.corr(numeric_only=True))"
      ],
      "metadata": {
        "colab": {
          "base_uri": "https://localhost:8080/"
        },
        "id": "dThIa8iNkq6f",
        "outputId": "5af360de-d797-4dc1-de5c-c056c01f49f3"
      },
      "execution_count": 11,
      "outputs": [
        {
          "output_type": "stream",
          "name": "stdout",
          "text": [
            "                     Id  MSSubClass  LotFrontage   LotArea  OverallQual  \\\n",
            "Id             1.000000    0.011156    -0.010601 -0.033226    -0.028365   \n",
            "MSSubClass     0.011156    1.000000    -0.386347 -0.139781     0.032628   \n",
            "LotFrontage   -0.010601   -0.386347     1.000000  0.426095     0.251646   \n",
            "LotArea       -0.033226   -0.139781     0.426095  1.000000     0.105806   \n",
            "OverallQual   -0.028365    0.032628     0.251646  0.105806     1.000000   \n",
            "OverallCond    0.012609   -0.059316    -0.059213 -0.005636    -0.091932   \n",
            "YearBuilt     -0.012713    0.027850     0.123349  0.014228     0.572323   \n",
            "YearRemodAdd  -0.021998    0.040581     0.088866  0.013788     0.550684   \n",
            "MasVnrArea    -0.050298    0.022936     0.193458  0.104160     0.411876   \n",
            "BsmtFinSF1    -0.005024   -0.069836     0.233633  0.214103     0.239666   \n",
            "BsmtFinSF2    -0.005968   -0.065649     0.049900  0.111170    -0.059119   \n",
            "BsmtUnfSF     -0.007940   -0.140759     0.132644 -0.002618     0.308159   \n",
            "TotalBsmtSF   -0.015415   -0.238518     0.392075  0.260833     0.537808   \n",
            "1stFlrSF       0.010496   -0.251758     0.457181  0.299475     0.476224   \n",
            "2ndFlrSF       0.005590    0.307886     0.080177  0.050986     0.295493   \n",
            "LowQualFinSF  -0.044230    0.046474     0.038469  0.004779    -0.030429   \n",
            "GrLivArea      0.008273    0.074853     0.402797  0.263116     0.593007   \n",
            "BsmtFullBath   0.002289    0.003491     0.100949  0.158155     0.111098   \n",
            "BsmtHalfBath  -0.020155   -0.002333    -0.007234  0.048046    -0.040150   \n",
            "FullBath       0.005587    0.131608     0.198769  0.126031     0.550600   \n",
            "HalfBath       0.006784    0.177354     0.053532  0.014259     0.273458   \n",
            "BedroomAbvGr   0.037719   -0.023438     0.263170  0.119690     0.101676   \n",
            "KitchenAbvGr   0.002951    0.281721    -0.006069 -0.017784    -0.183882   \n",
            "TotRmsAbvGrd   0.027239    0.040380     0.352096  0.190015     0.427452   \n",
            "Fireplaces    -0.019772   -0.045569     0.266639  0.271364     0.396765   \n",
            "GarageYrBlt    0.000072    0.085072     0.070250 -0.024947     0.547766   \n",
            "GarageCars     0.016570   -0.040110     0.285691  0.154871     0.600671   \n",
            "GarageArea     0.017634   -0.098672     0.344997  0.180403     0.562022   \n",
            "WoodDeckSF    -0.029643   -0.012579     0.088521  0.171698     0.238923   \n",
            "OpenPorchSF   -0.000477   -0.006100     0.151972  0.084774     0.308819   \n",
            "EnclosedPorch  0.002889   -0.012037     0.010700 -0.018340    -0.113937   \n",
            "3SsnPorch     -0.046635   -0.043825     0.070029  0.020423     0.030371   \n",
            "ScreenPorch    0.001330   -0.026030     0.041383  0.043160     0.064886   \n",
            "PoolArea       0.057044    0.008283     0.206167  0.077672     0.065166   \n",
            "MiscVal       -0.006242   -0.007683     0.003368  0.038068    -0.031406   \n",
            "MoSold         0.021172   -0.013585     0.011200  0.001205     0.070815   \n",
            "YrSold         0.000712   -0.021407     0.007450 -0.014261    -0.027347   \n",
            "SalePrice     -0.021917   -0.084284     0.351799  0.263843     0.790982   \n",
            "\n",
            "               OverallCond  YearBuilt  YearRemodAdd  MasVnrArea  BsmtFinSF1  \\\n",
            "Id                0.012609  -0.012713     -0.021998   -0.050298   -0.005024   \n",
            "MSSubClass       -0.059316   0.027850      0.040581    0.022936   -0.069836   \n",
            "LotFrontage      -0.059213   0.123349      0.088866    0.193458    0.233633   \n",
            "LotArea          -0.005636   0.014228      0.013788    0.104160    0.214103   \n",
            "OverallQual      -0.091932   0.572323      0.550684    0.411876    0.239666   \n",
            "OverallCond       1.000000  -0.375983      0.073741   -0.128101   -0.046231   \n",
            "YearBuilt        -0.375983   1.000000      0.592855    0.315707    0.249503   \n",
            "YearRemodAdd      0.073741   0.592855      1.000000    0.179618    0.128451   \n",
            "MasVnrArea       -0.128101   0.315707      0.179618    1.000000    0.264736   \n",
            "BsmtFinSF1       -0.046231   0.249503      0.128451    0.264736    1.000000   \n",
            "BsmtFinSF2        0.040229  -0.049107     -0.067759   -0.072319   -0.050117   \n",
            "BsmtUnfSF        -0.136841   0.149040      0.181133    0.114442   -0.495251   \n",
            "TotalBsmtSF      -0.171098   0.391452      0.291066    0.363936    0.522396   \n",
            "1stFlrSF         -0.144203   0.281986      0.240379    0.344501    0.445863   \n",
            "2ndFlrSF          0.028942   0.010308      0.140024    0.174561   -0.137079   \n",
            "LowQualFinSF      0.025494  -0.183784     -0.062419   -0.069071   -0.064503   \n",
            "GrLivArea        -0.079686   0.199010      0.287389    0.390857    0.208171   \n",
            "BsmtFullBath     -0.054942   0.187599      0.119470    0.085310    0.649212   \n",
            "BsmtHalfBath      0.117821  -0.038162     -0.012337    0.026673    0.067418   \n",
            "FullBath         -0.194149   0.468271      0.439046    0.276833    0.058543   \n",
            "HalfBath         -0.060769   0.242656      0.183331    0.201444    0.004262   \n",
            "BedroomAbvGr      0.012980  -0.070651     -0.040581    0.102821   -0.107355   \n",
            "KitchenAbvGr     -0.087001  -0.174800     -0.149598   -0.037610   -0.081007   \n",
            "TotRmsAbvGrd     -0.057583   0.095589      0.191740    0.280682    0.044316   \n",
            "Fireplaces       -0.023820   0.147716      0.112581    0.249070    0.260011   \n",
            "GarageYrBlt      -0.324297   0.825667      0.642277    0.252691    0.153484   \n",
            "GarageCars       -0.185758   0.537850      0.420622    0.364204    0.224054   \n",
            "GarageArea       -0.151521   0.478954      0.371600    0.373066    0.296970   \n",
            "WoodDeckSF       -0.003334   0.224880      0.205726    0.159718    0.204306   \n",
            "OpenPorchSF      -0.032589   0.188686      0.226298    0.125703    0.111761   \n",
            "EnclosedPorch     0.070356  -0.387268     -0.193919   -0.110204   -0.102303   \n",
            "3SsnPorch         0.025504   0.031355      0.045286    0.018796    0.026451   \n",
            "ScreenPorch       0.054811  -0.050364     -0.038740    0.061466    0.062021   \n",
            "PoolArea         -0.001985   0.004950      0.005829    0.011723    0.140491   \n",
            "MiscVal           0.068777  -0.034383     -0.010286   -0.029815    0.003571   \n",
            "MoSold           -0.003511   0.012398      0.021490   -0.005965   -0.015727   \n",
            "YrSold            0.043950  -0.013618      0.035743   -0.008201    0.014359   \n",
            "SalePrice        -0.077856   0.522897      0.507101    0.477493    0.386420   \n",
            "\n",
            "               ...  WoodDeckSF  OpenPorchSF  EnclosedPorch  3SsnPorch  \\\n",
            "Id             ...   -0.029643    -0.000477       0.002889  -0.046635   \n",
            "MSSubClass     ...   -0.012579    -0.006100      -0.012037  -0.043825   \n",
            "LotFrontage    ...    0.088521     0.151972       0.010700   0.070029   \n",
            "LotArea        ...    0.171698     0.084774      -0.018340   0.020423   \n",
            "OverallQual    ...    0.238923     0.308819      -0.113937   0.030371   \n",
            "OverallCond    ...   -0.003334    -0.032589       0.070356   0.025504   \n",
            "YearBuilt      ...    0.224880     0.188686      -0.387268   0.031355   \n",
            "YearRemodAdd   ...    0.205726     0.226298      -0.193919   0.045286   \n",
            "MasVnrArea     ...    0.159718     0.125703      -0.110204   0.018796   \n",
            "BsmtFinSF1     ...    0.204306     0.111761      -0.102303   0.026451   \n",
            "BsmtFinSF2     ...    0.067898     0.003093       0.036543  -0.029993   \n",
            "BsmtUnfSF      ...   -0.005316     0.129005      -0.002538   0.020764   \n",
            "TotalBsmtSF    ...    0.232019     0.247264      -0.095478   0.037384   \n",
            "1stFlrSF       ...    0.235459     0.211671      -0.065292   0.056104   \n",
            "2ndFlrSF       ...    0.092165     0.208026       0.061989  -0.024358   \n",
            "LowQualFinSF   ...   -0.025444     0.018251       0.061081  -0.004296   \n",
            "GrLivArea      ...    0.247433     0.330224       0.009113   0.020643   \n",
            "BsmtFullBath   ...    0.175315     0.067341      -0.049911  -0.000106   \n",
            "BsmtHalfBath   ...    0.040161    -0.025324      -0.008555   0.035114   \n",
            "FullBath       ...    0.187703     0.259977      -0.115093   0.035353   \n",
            "HalfBath       ...    0.108080     0.199740      -0.095317  -0.004972   \n",
            "BedroomAbvGr   ...    0.046854     0.093810       0.041570  -0.024478   \n",
            "KitchenAbvGr   ...   -0.090130    -0.070091       0.037312  -0.024600   \n",
            "TotRmsAbvGrd   ...    0.165984     0.234192       0.004151  -0.006683   \n",
            "Fireplaces     ...    0.200019     0.169405      -0.024822   0.011257   \n",
            "GarageYrBlt    ...    0.224577     0.228425      -0.297003   0.023544   \n",
            "GarageCars     ...    0.226342     0.213569      -0.151434   0.035765   \n",
            "GarageArea     ...    0.224666     0.241435      -0.121777   0.035087   \n",
            "WoodDeckSF     ...    1.000000     0.058661      -0.125989  -0.032771   \n",
            "OpenPorchSF    ...    0.058661     1.000000      -0.093079  -0.005842   \n",
            "EnclosedPorch  ...   -0.125989    -0.093079       1.000000  -0.037305   \n",
            "3SsnPorch      ...   -0.032771    -0.005842      -0.037305   1.000000   \n",
            "ScreenPorch    ...   -0.074181     0.074304      -0.082864  -0.031436   \n",
            "PoolArea       ...    0.073378     0.060762       0.054203  -0.007992   \n",
            "MiscVal        ...   -0.009551    -0.018584       0.018361   0.000354   \n",
            "MoSold         ...    0.021011     0.071255      -0.028887   0.029474   \n",
            "YrSold         ...    0.022270    -0.057619      -0.009916   0.018645   \n",
            "SalePrice      ...    0.324413     0.315856      -0.128578   0.044584   \n",
            "\n",
            "               ScreenPorch  PoolArea   MiscVal    MoSold    YrSold  SalePrice  \n",
            "Id                0.001330  0.057044 -0.006242  0.021172  0.000712  -0.021917  \n",
            "MSSubClass       -0.026030  0.008283 -0.007683 -0.013585 -0.021407  -0.084284  \n",
            "LotFrontage       0.041383  0.206167  0.003368  0.011200  0.007450   0.351799  \n",
            "LotArea           0.043160  0.077672  0.038068  0.001205 -0.014261   0.263843  \n",
            "OverallQual       0.064886  0.065166 -0.031406  0.070815 -0.027347   0.790982  \n",
            "OverallCond       0.054811 -0.001985  0.068777 -0.003511  0.043950  -0.077856  \n",
            "YearBuilt        -0.050364  0.004950 -0.034383  0.012398 -0.013618   0.522897  \n",
            "YearRemodAdd     -0.038740  0.005829 -0.010286  0.021490  0.035743   0.507101  \n",
            "MasVnrArea        0.061466  0.011723 -0.029815 -0.005965 -0.008201   0.477493  \n",
            "BsmtFinSF1        0.062021  0.140491  0.003571 -0.015727  0.014359   0.386420  \n",
            "BsmtFinSF2        0.088871  0.041709  0.004940 -0.015211  0.031706  -0.011378  \n",
            "BsmtUnfSF        -0.012579 -0.035092 -0.023837  0.034888 -0.041258   0.214479  \n",
            "TotalBsmtSF       0.084489  0.126053 -0.018479  0.013196 -0.014969   0.613581  \n",
            "1stFlrSF          0.088758  0.131525 -0.021096  0.031372 -0.013604   0.605852  \n",
            "2ndFlrSF          0.040606  0.081487  0.016197  0.035164 -0.028700   0.319334  \n",
            "LowQualFinSF      0.026799  0.062157 -0.003793 -0.022174 -0.028921  -0.025606  \n",
            "GrLivArea         0.101510  0.170205 -0.002416  0.050240 -0.036526   0.708624  \n",
            "BsmtFullBath      0.023148  0.067616 -0.023047 -0.025361  0.067049   0.227122  \n",
            "BsmtHalfBath      0.032121  0.020025 -0.007367  0.032873 -0.046524  -0.016844  \n",
            "FullBath         -0.008106  0.049604 -0.014290  0.055872 -0.019669   0.560664  \n",
            "HalfBath          0.072426  0.022381  0.001290 -0.009050 -0.010269   0.284108  \n",
            "BedroomAbvGr      0.044300  0.070703  0.007767  0.046544 -0.036014   0.168213  \n",
            "KitchenAbvGr     -0.051613 -0.014525  0.062341  0.026589  0.031687  -0.135907  \n",
            "TotRmsAbvGrd      0.059383  0.083757  0.024763  0.036907 -0.034516   0.533723  \n",
            "Fireplaces        0.184530  0.095074  0.001409  0.046357 -0.024096   0.466929  \n",
            "GarageYrBlt      -0.075418 -0.014501 -0.032417  0.005337 -0.001014   0.486362  \n",
            "GarageCars        0.050494  0.020934 -0.043080  0.040522 -0.039117   0.640409  \n",
            "GarageArea        0.051412  0.061047 -0.027400  0.027974 -0.027378   0.623431  \n",
            "WoodDeckSF       -0.074181  0.073378 -0.009551  0.021011  0.022270   0.324413  \n",
            "OpenPorchSF       0.074304  0.060762 -0.018584  0.071255 -0.057619   0.315856  \n",
            "EnclosedPorch    -0.082864  0.054203  0.018361 -0.028887 -0.009916  -0.128578  \n",
            "3SsnPorch        -0.031436 -0.007992  0.000354  0.029474  0.018645   0.044584  \n",
            "ScreenPorch       1.000000  0.051307  0.031946  0.023217  0.010694   0.111447  \n",
            "PoolArea          0.051307  1.000000  0.029669 -0.033737 -0.059689   0.092404  \n",
            "MiscVal           0.031946  0.029669  1.000000 -0.006495  0.004906  -0.021190  \n",
            "MoSold            0.023217 -0.033737 -0.006495  1.000000 -0.145721   0.046432  \n",
            "YrSold            0.010694 -0.059689  0.004906 -0.145721  1.000000  -0.028923  \n",
            "SalePrice         0.111447  0.092404 -0.021190  0.046432 -0.028923   1.000000  \n",
            "\n",
            "[38 rows x 38 columns]\n"
          ]
        }
      ]
    },
    {
      "cell_type": "code",
      "source": [
        "df = df[['LotArea', 'BedroomAbvGr', 'FullBath', 'SalePrice']]\n",
        "print(df.head())"
      ],
      "metadata": {
        "colab": {
          "base_uri": "https://localhost:8080/"
        },
        "id": "Gyh9_hRjlYSj",
        "outputId": "5961d157-7abf-46cf-f339-2ac2d6812e73"
      },
      "execution_count": 12,
      "outputs": [
        {
          "output_type": "stream",
          "name": "stdout",
          "text": [
            "   LotArea  BedroomAbvGr  FullBath  SalePrice\n",
            "0     8450             3         2     208500\n",
            "1     9600             3         2     181500\n",
            "2    11250             3         2     223500\n",
            "3     9550             3         1     140000\n",
            "4    14260             4         2     250000\n"
          ]
        }
      ]
    },
    {
      "cell_type": "code",
      "source": [
        "print(df.isnull().sum())"
      ],
      "metadata": {
        "colab": {
          "base_uri": "https://localhost:8080/"
        },
        "id": "ino4rLWxlayz",
        "outputId": "854fd945-70b6-439a-a348-35aa569cf6f9"
      },
      "execution_count": 13,
      "outputs": [
        {
          "output_type": "stream",
          "name": "stdout",
          "text": [
            "LotArea         0\n",
            "BedroomAbvGr    0\n",
            "FullBath        0\n",
            "SalePrice       0\n",
            "dtype: int64\n"
          ]
        }
      ]
    },
    {
      "cell_type": "code",
      "source": [
        "df = df.fillna(df.median())"
      ],
      "metadata": {
        "id": "Wg_qJEhXleA5"
      },
      "execution_count": 14,
      "outputs": []
    },
    {
      "cell_type": "code",
      "source": [
        "from sklearn.model_selection import train_test_split\n",
        "\n",
        "X = df[['LotArea', 'BedroomAbvGr', 'FullBath']]\n",
        "y = df['SalePrice']\n",
        "\n",
        "X_train, X_test, y_train, y_test = train_test_split(X, y, test_size=0.2, random_state=42)\n",
        "\n",
        "print(f\"Training set size: {X_train.shape}\")\n",
        "print(f\"Testing set size: {X_test.shape}\")\n"
      ],
      "metadata": {
        "colab": {
          "base_uri": "https://localhost:8080/"
        },
        "id": "1Xt-z_2klp0s",
        "outputId": "9a608788-a33f-4d7a-d9fa-fda8d58562f2"
      },
      "execution_count": 15,
      "outputs": [
        {
          "output_type": "stream",
          "name": "stdout",
          "text": [
            "Training set size: (1168, 3)\n",
            "Testing set size: (292, 3)\n"
          ]
        }
      ]
    },
    {
      "cell_type": "code",
      "source": [
        "from sklearn.linear_model import LinearRegression\n",
        "\n",
        "# Initialize the model\n",
        "model = LinearRegression()\n",
        "\n",
        "# Train the model using the training data\n",
        "model.fit(X_train, y_train)\n",
        "\n",
        "# Print the model coefficients (weights)\n",
        "print(\"Model Coefficients:\", model.coef_)\n",
        "print(\"Model Intercept:\", model.intercept_)\n"
      ],
      "metadata": {
        "colab": {
          "base_uri": "https://localhost:8080/"
        },
        "id": "WnwPY8eSlz6X",
        "outputId": "dd4b4e23-d731-4b63-9b9f-d95513fef827"
      },
      "execution_count": 16,
      "outputs": [
        {
          "output_type": "stream",
          "name": "stdout",
          "text": [
            "Model Coefficients: [ 1.49913254e+00 -5.58832314e+03  7.74475924e+04]\n",
            "Model Intercept: 59429.80517991827\n"
          ]
        }
      ]
    },
    {
      "cell_type": "code",
      "source": [
        "from sklearn.metrics import mean_absolute_error, r2_score\n",
        "\n",
        "# Make predictions on the test set\n",
        "y_pred = model.predict(X_test)\n",
        "\n",
        "# Calculate Mean Absolute Error (MAE)\n",
        "mae = mean_absolute_error(y_test, y_pred)\n",
        "print(f\"Mean Absolute Error: {mae}\")\n",
        "\n",
        "# Calculate R² Score (closer to 1 is better)\n",
        "r2 = r2_score(y_test, y_pred)\n",
        "print(f\"R² Score: {r2}\")\n"
      ],
      "metadata": {
        "colab": {
          "base_uri": "https://localhost:8080/"
        },
        "id": "0a7KZeHGl6z9",
        "outputId": "3bbeb2da-86ee-4b16-98f6-e46a003c5900"
      },
      "execution_count": 17,
      "outputs": [
        {
          "output_type": "stream",
          "name": "stdout",
          "text": [
            "Mean Absolute Error: 45417.52000388166\n",
            "R² Score: 0.37008419442207263\n"
          ]
        }
      ]
    },
    {
      "cell_type": "code",
      "source": [
        "import joblib\n",
        "joblib.dump(model, \"house_price_model.pkl\")"
      ],
      "metadata": {
        "colab": {
          "base_uri": "https://localhost:8080/"
        },
        "id": "RNRvUkcQmbQb",
        "outputId": "d9ac1b01-610e-43ad-a6ad-7ccd86d0cb2e"
      },
      "execution_count": 18,
      "outputs": [
        {
          "output_type": "execute_result",
          "data": {
            "text/plain": [
              "['house_price_model.pkl']"
            ]
          },
          "metadata": {},
          "execution_count": 18
        }
      ]
    }
  ]
}